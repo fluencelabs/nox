{
 "cells": [
  {
   "cell_type": "code",
   "execution_count": 1,
   "metadata": {},
   "outputs": [],
   "source": [
    "%matplotlib inline\n",
    "import matplotlib.pyplot as plt\n",
    "\n",
    "import pandas as pd\n",
    "import numpy as np"
   ]
  },
  {
   "cell_type": "markdown",
   "metadata": {},
   "source": [
    "<h2>Settings</h2>"
   ]
  },
  {
   "cell_type": "code",
   "execution_count": 2,
   "metadata": {},
   "outputs": [],
   "source": [
    "result_dir = \"\"\n",
    "\n",
    "compiler_type_vms = [\"asmble\", \"wasmer\", \"wavm\"]\n",
    "\n",
    "interpreter_type_vms = [\"life\", \"wasmi\", \"wagon\"]\n",
    "\n",
    "# the list of enabled test names\n",
    "test_names = [\"snappy_compression_5_1000000_1Kb\", \\\n",
    "              \"snappy_compression_5_10_100Mb\", \\\n",
    "              \"deflate_compression_5_100000_1Kb\", \\\n",
    "              \"deflate_compression_5_5_100Mb\", \\\n",
    "              \"fibonacci_38\", \\\n",
    "              \"factorization_2147483647\", \\\n",
    "              \"recursive_hash_10000000_0\", \\\n",
    "              \"matrix_product_1_10_1000000\", \\\n",
    "              \"matrix_product_1_500_100\", \\\n",
    "              \"svd_decomposition_1_10_1000000\", \\\n",
    "              \"svd_decomposition_1_300_100\", \\\n",
    "              \"qr_decomposition_1_10_1000000\", \\\n",
    "              \"qr_decomposition_1_500_100\"]"
   ]
  },
  {
   "cell_type": "markdown",
   "metadata": {},
   "source": [
    "<h2>Import results</h2>"
   ]
  },
  {
   "cell_type": "code",
   "execution_count": 3,
   "metadata": {},
   "outputs": [],
   "source": [
    "from collections import defaultdict\n",
    "\n",
    "def read_results(file_name):\n",
    "    results = defaultdict(list)\n",
    "    csv_results = pd.read_csv(file_name)\n",
    "    for test_name, elapsed_time in zip(csv_results[\"test_name\"], csv_results[\"elapsed_time\"]):\n",
    "        results[test_name].append(elapsed_time)\n",
    "        \n",
    "    return results"
   ]
  },
  {
   "cell_type": "code",
   "execution_count": 4,
   "metadata": {},
   "outputs": [],
   "source": [
    "from os.path import join\n",
    "\n",
    "vm_results = {}\n",
    "for compiler_vm in compiler_type_vms:\n",
    "    vm_results[compiler_vm] = read_results(join(result_dir, compiler_vm + \".csv\"))\n",
    "\n",
    "for interpreter_vm in interpreter_type_vms:\n",
    "    vm_results[interpreter_vm] = read_results(join(result_dir, interpreter_vm + \".csv\"))"
   ]
  },
  {
   "cell_type": "markdown",
   "metadata": {},
   "source": [
    "<h2>Results preparation</h2>"
   ]
  },
  {
   "cell_type": "code",
   "execution_count": 5,
   "metadata": {},
   "outputs": [],
   "source": [
    "tests_result = defaultdict(list)\n",
    "df_results = {}\n",
    "interpreter_tests_result = {}\n",
    "\n",
    "for test_name in test_names:\n",
    "    for vm_name in vm_results:\n",
    "        tests_result[test_name].append(vm_results[vm_name][test_name])\n",
    "        \n",
    "    df_results[test_name] = pd.DataFrame(pd.DataFrame(tests_result[test_name]).T.values, columns=vm_results.keys())"
   ]
  },
  {
   "cell_type": "code",
   "execution_count": 6,
   "metadata": {},
   "outputs": [
    {
     "name": "stdout",
     "output_type": "stream",
     "text": [
      "MultiIndex(levels=[['a', 'b'], ['bar', 'foo']],\n",
      "           labels=[[0, 0, 0, 0, 1, 1, 1, 1], [1, 1, 0, 0, 1, 1, 0, 0]],\n",
      "           names=['letter', 'word'])\n"
     ]
    }
   ],
   "source": [
    "ix3 = pd.MultiIndex.from_arrays([['a', 'a', 'a', 'a', 'b', 'b', 'b', 'b'], ['foo', 'foo', 'bar', 'bar', 'foo', 'foo', 'bar', 'bar']], names=['letter', 'word'])\n",
    "print(ix3)\n"
   ]
  },
  {
   "cell_type": "code",
   "execution_count": 7,
   "metadata": {},
   "outputs": [
    {
     "name": "stdout",
     "output_type": "stream",
     "text": [
      "             data1  data2\n",
      "letter word              \n",
      "a      foo       3      6\n",
      "       foo       2      5\n",
      "       bar       4      7\n",
      "       bar       3      5\n",
      "b      foo       2      4\n",
      "       foo       4      5\n",
      "       bar       3      6\n",
      "       bar       2      5\n"
     ]
    }
   ],
   "source": [
    "df3 = pd.DataFrame({'data1': [3, 2, 4, 3, 2, 4, 3, 2], 'data2': [6, 5, 7, 5, 4, 5, 6, 5]}, index=ix3)\n",
    "print(df3)"
   ]
  },
  {
   "cell_type": "code",
   "execution_count": 8,
   "metadata": {},
   "outputs": [
    {
     "name": "stdout",
     "output_type": "stream",
     "text": [
      "<pandas.core.groupby.groupby.DataFrameGroupBy object at 0x1141053c8>\n"
     ]
    }
   ],
   "source": [
    "gp3 = df3.groupby(level=('letter', 'word'))\n",
    "print(gp3)"
   ]
  },
  {
   "cell_type": "code",
   "execution_count": 9,
   "metadata": {},
   "outputs": [
    {
     "name": "stdout",
     "output_type": "stream",
     "text": [
      "             data1  data2\n",
      "letter word              \n",
      "a      bar     3.5    6.0\n",
      "       foo     2.5    5.5\n",
      "b      bar     2.5    5.5\n",
      "       foo     3.0    4.5\n"
     ]
    }
   ],
   "source": [
    "means = gp3.mean()\n",
    "print(means)"
   ]
  },
  {
   "cell_type": "markdown",
   "metadata": {},
   "source": [
    "<h2>Result statistics</h2>"
   ]
  },
  {
   "cell_type": "code",
   "execution_count": 10,
   "metadata": {},
   "outputs": [
    {
     "name": "stdout",
     "output_type": "stream",
     "text": [
      "snappy_compression_5_1000000_1Kb\n",
      "          asmble     wasmer       wavm         life        wasmi        wagon\n",
      "count  11.000000  11.000000  11.000000     3.000000     3.000000     3.000000\n",
      "mean   27.509278  38.289971  13.603409  4489.894337  1982.833807  3561.239060\n",
      "std     0.139130   0.306925   0.092356     0.698231     1.957743     2.400583\n",
      "min    27.285796  38.057326  13.558479  4489.130545  1981.034256  3559.698968\n",
      "25%    27.392895  38.114557  13.566798  4489.591594  1981.791472  3559.856054\n",
      "50%    27.534367  38.144967  13.572578  4490.052643  1982.548688  3560.013139\n",
      "75%    27.631515  38.309500  13.583830  4490.276233  1983.733582  3562.009106\n",
      "max    27.703752  39.042619  13.877442  4490.499823  1984.918476  3564.005073\n",
      "\n",
      "snappy_compression_5_10_100Mb\n",
      "          asmble     wasmer       wavm         life        wasmi        wagon\n",
      "count  11.000000  11.000000  11.000000     3.000000     3.000000     3.000000\n",
      "mean   20.689402  23.091201   9.644523  2501.841140  1091.431735  1965.293602\n",
      "std     0.138434   0.326162   0.020368    11.638523     4.680804     6.304526\n",
      "min    20.478251  22.934610   9.588622  2491.425814  1086.784157  1961.416366\n",
      "25%    20.578294  22.946539   9.649147  2495.559811  1089.075067  1961.656319\n",
      "50%    20.763431  22.978110   9.651982  2499.693807  1091.365976  1961.896272\n",
      "75%    20.795805  23.024384   9.653107  2507.048802  1093.755524  1967.232219\n",
      "max    20.863130  24.042095   9.658906  2514.403798  1096.145072  1972.568166\n",
      "\n",
      "deflate_compression_5_100000_1Kb\n",
      "           asmble     wasmer       wavm         life        wasmi        wagon\n",
      "count   11.000000  11.000000  11.000000     3.000000     3.000000     3.000000\n",
      "mean    93.851613  74.625990  21.199819  5287.496047  2470.811564  4369.412904\n",
      "std      3.432017   0.428927   0.022519     7.784139     6.477929     0.984736\n",
      "min     91.047782  74.340672  21.163595  5282.202939  2463.891302  4368.288575\n",
      "25%     91.715567  74.437653  21.182901  5283.027135  2467.852063  4369.058307\n",
      "50%     92.589876  74.492878  21.202178  5283.851331  2471.812824  4369.828039\n",
      "75%     94.555122  74.551465  21.214227  5290.142601  2474.271695  4369.975069\n",
      "max    102.258165  75.861717  21.240955  5296.433871  2476.730567  4370.122099\n",
      "\n",
      "deflate_compression_5_5_100Mb\n",
      "          asmble     wasmer       wavm         life        wasmi        wagon\n",
      "count  11.000000  11.000000  11.000000     3.000000     3.000000     3.000000\n",
      "mean   72.113851  64.939624  25.317247  4816.526482  2484.077715  4099.660016\n",
      "std     0.882211   0.450787   0.628646     2.848023    65.895010     1.615461\n",
      "min    70.888475  64.424143  24.983077  4814.826474  2409.626905  4098.546036\n",
      "25%    71.338824  64.642138  24.993127  4814.882493  2458.665012  4098.733639\n",
      "50%    71.849424  64.908455  25.031213  4814.938513  2507.703119  4098.921243\n",
      "75%    72.932415  65.053122  25.128920  4817.376486  2521.303120  4100.217006\n",
      "max    73.546152  66.035087  26.597384  4819.814459  2534.903121  4101.512769\n",
      "\n",
      "fibonacci_38\n",
      "          asmble     wasmer       wavm         life        wasmi        wagon\n",
      "count  11.000000  11.000000  11.000000     3.000000     3.000000     3.000000\n",
      "mean   16.691360  19.941425   8.108686  1643.017879  1042.967695  1601.303013\n",
      "std     0.181935   0.177642   0.020192     3.994730     9.372332     1.438486\n",
      "min    16.258974  19.738884   8.082629  1640.383469  1032.781823  1600.043772\n",
      "25%    16.623871  19.824988   8.095961  1640.719704  1038.837987  1600.519167\n",
      "50%    16.680825  19.907018   8.103354  1641.055940  1044.894151  1600.994562\n",
      "75%    16.809812  20.026435   8.116766  1644.335084  1048.060632  1601.932633\n",
      "max    16.954596  20.375243   8.146259  1647.614228  1051.227112  1602.870704\n",
      "\n",
      "factorization_2147483647\n",
      "          asmble     wasmer       wavm        life        wasmi        wagon\n",
      "count  11.000000  11.000000  11.000000    3.000000     3.000000     3.000000\n",
      "mean   16.874333  46.536661  13.964031  713.052516  1223.615746  2359.353292\n",
      "std     0.427199   0.103875   0.003881    6.005510     0.267290    10.419523\n",
      "min    16.282204  46.439684  13.957934  706.526153  1223.404734  2352.054485\n",
      "25%    16.464882  46.455561  13.962305  710.405902  1223.465462  2353.386972\n",
      "50%    17.137126  46.467477  13.964377  714.285651  1223.526190  2354.719458\n",
      "75%    17.221409  46.640611  13.965625  716.315697  1223.721253  2363.002695\n",
      "max    17.385347  46.697291  13.972029  718.345743  1223.916315  2371.285932\n",
      "\n",
      "recursive_hash_10000000_0\n",
      "          asmble     wasmer       wavm         life        wasmi        wagon\n",
      "count  11.000000  11.000000  11.000000     3.000000     3.000000     3.000000\n",
      "mean   19.746406  35.259964  11.056658  4279.312207  2024.054753  3587.111964\n",
      "std     0.154141   0.381513   0.025236     7.546089     2.086097    35.500944\n",
      "min    19.500219  35.013786  11.034357  4272.684447  2021.645939  3563.287323\n",
      "25%    19.651385  35.022794  11.038457  4275.205877  2023.450810  3566.711022\n",
      "50%    19.715443  35.087712  11.046078  4277.727307  2025.255682  3570.134720\n",
      "75%    19.860287  35.320971  11.072887  4282.626088  2025.259160  3599.024284\n",
      "max    19.989319  36.196385  11.106066  4287.524868  2025.262639  3627.913848\n",
      "\n",
      "matrix_product_1_10_1000000\n",
      "          asmble     wasmer       wavm         life        wasmi        wagon\n",
      "count  11.000000  11.000000  11.000000     3.000000     3.000000     3.000000\n",
      "mean   28.670345  39.452996  16.247164  4374.047801  2008.433640  3543.557914\n",
      "std     0.168509   0.243269   0.033770    50.897288    11.630467     7.355641\n",
      "min    28.401988  39.203752  16.217836  4326.752590  1998.022709  3538.751461\n",
      "25%    28.562875  39.249053  16.224584  4347.116830  2002.157449  3539.324018\n",
      "50%    28.642353  39.371888  16.230875  4367.481069  2006.292189  3539.896575\n",
      "75%    28.745525  39.646530  16.264022  4397.695406  2013.639105  3545.961141\n",
      "max    29.021882  39.871562  16.327942  4427.909744  2020.986020  3552.025707\n",
      "\n",
      "matrix_product_1_500_100\n",
      "          asmble     wasmer       wavm         life        wasmi        wagon\n",
      "count  11.000000  11.000000  11.000000     3.000000     3.000000     3.000000\n",
      "mean   22.774054  61.745547  14.854967  5355.388676  2245.719414  4215.188898\n",
      "std     0.155343   0.045915   0.009502    20.710380     3.236059    17.787480\n",
      "min    22.560655  61.718644  14.846411  5336.669285  2242.056046  4194.650020\n",
      "25%    22.710032  61.725152  14.850101  5344.264682  2244.484636  4210.003375\n",
      "50%    22.758279  61.731585  14.851728  5351.860078  2246.913226  4225.356731\n",
      "75%    22.782023  61.735519  14.856215  5364.748372  2247.551097  4225.458337\n",
      "max    23.194996  61.879148  14.880794  5377.636666  2248.188968  4225.559944\n",
      "\n",
      "svd_decomposition_1_10_1000000\n",
      "           asmble     wasmer       wavm         life        wasmi        wagon\n",
      "count   11.000000  11.000000  11.000000     3.000000     3.000000     3.000000\n",
      "mean   768.880436  66.668646  21.478054  6499.116137  3125.637860  5468.008785\n",
      "std      7.259421   0.849050   0.061258    11.000329    19.298810     3.393875\n",
      "min    755.066788  66.171976  21.410838  6491.044081  3107.439191  5465.782022\n",
      "25%    767.372231  66.284977  21.435606  6492.851399  3115.519297  5466.055712\n",
      "50%    770.444712  66.390589  21.463171  6494.658716  3123.599403  5466.329402\n",
      "75%    774.082927  66.605686  21.497224  6503.152165  3134.737194  5469.122166\n",
      "max    775.688058  69.166608  21.601202  6511.645614  3145.874986  5471.914930\n",
      "\n",
      "svd_decomposition_1_300_100\n",
      "           asmble     wasmer       wavm         life        wasmi        wagon\n",
      "count   11.000000  11.000000  11.000000     3.000000     3.000000     3.000000\n",
      "mean   749.838833  67.452102  17.977687  5628.883695  2509.749280  4816.970306\n",
      "std      3.779216   1.540107   0.011701     6.065198     3.084279     3.554615\n",
      "min    746.261737  66.699674  17.959467  5622.963588  2506.222028  4812.899757\n",
      "25%    747.421007  66.734926  17.969493  5625.783416  2508.654370  4815.724491\n",
      "50%    749.202286  66.766242  17.976489  5628.603244  2511.086711  4818.549225\n",
      "75%    750.486827  66.830810  17.986123  5631.843749  2511.512907  4819.005581\n",
      "max    760.051553  70.574839  17.998057  5635.084254  2511.939102  4819.461937\n",
      "\n",
      "qr_decomposition_1_10_1000000\n",
      "          asmble     wasmer       wavm         life        wasmi        wagon\n",
      "count  11.000000  11.000000  11.000000     3.000000     3.000000     3.000000\n",
      "mean   15.745707  19.908170   7.447789  2204.206966  1031.805186  1814.101338\n",
      "std     0.126389   0.072913   0.017560     7.525313     4.020399     1.494543\n",
      "min    15.432838  19.870971   7.422942  2197.381190  1028.477730  1813.220028\n",
      "25%    15.718551  19.872130   7.433706  2200.172062  1029.571570  1813.238529\n",
      "50%    15.773504  19.875339   7.450574  2202.962934  1030.665410  1813.257029\n",
      "75%    15.820488  19.913393   7.455251  2207.619855  1033.468914  1814.541992\n",
      "max    15.880277  20.116075   7.480433  2212.276776  1036.272418  1815.826955\n",
      "\n",
      "qr_decomposition_1_500_100\n",
      "          asmble     wasmer       wavm         life        wasmi        wagon\n",
      "count  11.000000  11.000000  11.000000     3.000000     3.000000     3.000000\n",
      "mean   22.065701  35.848045  10.247002  2777.040821  1366.548153  2316.107619\n",
      "std     0.148469   0.020861   0.004392     8.262698     6.146839     1.755520\n",
      "min    21.914033  35.815454  10.241175  2767.519549  1359.527594  2314.353863\n",
      "25%    21.943280  35.840695  10.243823  2774.395355  1364.340947  2315.228981\n",
      "50%    22.065240  35.842195  10.247275  2781.271161  1369.154300  2316.104098\n",
      "75%    22.146779  35.855105  10.248449  2781.801457  1370.058432  2316.984498\n",
      "max    22.381337  35.896615  10.256841  2782.331753  1370.962564  2317.864897\n",
      "\n"
     ]
    }
   ],
   "source": [
    "for test_name in test_names:\n",
    "    print(\"{}\\n{}\\n\".format(test_name, df_results[test_name].describe()))"
   ]
  },
  {
   "cell_type": "markdown",
   "metadata": {},
   "source": [
    "<h2>Box plots</h2>"
   ]
  },
  {
   "cell_type": "code",
   "execution_count": 200,
   "metadata": {},
   "outputs": [],
   "source": [
    "fontsize=15\n",
    "\n",
    "def adjust_line2D_linewidth(line2d, box_line_width, whisker_line_width, cap_line_width, median_line_width):\n",
    "    for box in line2d['boxes']:\n",
    "        box.set(linewidth=box_line_width)\n",
    "    \n",
    "    for whisker in line2d['whiskers']:\n",
    "        whisker.set(linewidth=whisker_line_width)\n",
    "\n",
    "    for cap in line2d['caps']:\n",
    "        cap.set(linewidth=cap_line_width)\n",
    "\n",
    "    for median in line2d['medians']:\n",
    "        median.set(linewidth=median_line_width)\n",
    "        \n",
    "def draw_plotbox(df, column, figsize, test_name, fontsize):\n",
    "    lines = df.boxplot(figsize=figsize, column=column, return_type='dict', widths=0.5, fontsize=fontsize, showmeans=True)\n",
    "    adjust_line2D_linewidth(lines, 2, 1, 1, 1)\n",
    "    plt.title(test_name, fontsize=fontsize)\n",
    "    plt.ylabel(\"sec\", fontsize=fontsize)\n",
    "    plt.show()\n",
    "    \n",
    "def draw_plot(df, columns, figsize, test_name, fontsize, isLogY=False):\n",
    "    df[columns].plot(style=\"o-\", figsize=figsize, fontsize=fontsize)\n",
    "    plt.title(test_name, fontsize=fontsize)\n",
    "    plt.ylabel(\"seconds\", fontsize=fontsize)\n",
    "    if isLogY:\n",
    "        plt.yscale(\"log\")\n",
    "    plt.grid()\n",
    "    \n",
    "def adjust_vm_name(vm_name):\n",
    "    if vm_name == \"life\":\n",
    "        return \"   \" + vm_name\n",
    "    if vm_name == \"wavm\":\n",
    "        return \" \" + vm_name\n",
    "    if len(vm_name) < 6:\n",
    "        return  vm_name\n",
    "    \n",
    "    return vm_name\n",
    "\n",
    "def draw_plotbar_2(df, figsize, fontsize, title):\n",
    "    # colors from https://gist.github.com/thriveth/8560036\n",
    "    ax = df.plot(kind=\"bar\", logy=True, rot=0, fontsize=fontsize+3, figsize=figsize, width=0.5,\n",
    "                 color=('#377eb8', '#ff7f00', '#4daf4a', '#dede00', '#999999', '#e41a1c'))\n",
    "\n",
    "    ax.get_legend().remove()\n",
    "    plt.ylabel(\"seconds\", fontsize=fontsize+5)\n",
    "    plt.title(title, fontsize=fontsize+10)\n",
    "    ax.yaxis.grid(True)\n",
    "\n",
    "    # show column height behind columns\n",
    "    for p in ax.patches:\n",
    "        annotate_value = str(np.round(p.get_height(), decimals=2)) if p.get_height() < 1000 else format(np.round(p.get_height()), \".0f\")\n",
    "        ax.annotate(str(annotate_value), (p.get_x()+p.get_width()/2., p.get_height()), ha='center', va='center', xytext=(0, 10), textcoords='offset points', fontsize=15, weight=\"bold\")\n",
    "\n",
    "    for patch_id in range(6):\n",
    "        ax.annotate(adjust_vm_name(df.columns[patch_id]), xy=(244 + patch_id * p.get_width()*716, 70), xycoords='figure pixels', fontsize=14)\n",
    "        patch_id += 1\n",
    "\n",
    "    for patch_id in range(6):\n",
    "        ax.annotate(adjust_vm_name(df.columns[patch_id]), xy=(944 + patch_id * p.get_width()*716, 70), xycoords='figure pixels', fontsize=14)\n",
    "        patch_id += 1\n"
   ]
  },
  {
   "cell_type": "code",
   "execution_count": 201,
   "metadata": {},
   "outputs": [],
   "source": [
    "figsize=(25,15)"
   ]
  },
  {
   "cell_type": "code",
   "execution_count": 202,
   "metadata": {},
   "outputs": [
    {
     "data": {
      "image/png": "[encoded data removed]",
      "text/plain": [
       "<Figure size 1800x1080 with 1 Axes>"
      ]
     },
     "metadata": {
      "needs_background": "light"
     },
     "output_type": "display_data"
    }
   ],
   "source": [
    "compresssion_tests = pd.DataFrame([df_results[\"snappy_compression_5_1000000_1Kb\"].mean(),\n",
    "                                   df_results[\"deflate_compression_5_5_100Mb\"].mean()], \n",
    "                                  index=[\"\\n\\nSnappy compression\\n(1000000 times by 1Kb)\", \n",
    "                                         \"\\n\\nDeflate compression\\n(5 times by 100Mb)\"])\n",
    "\n",
    "draw_plotbar_2(compresssion_tests, (25,15), fontsize, \"Compression tests\\n(log plot, a lower score is better)\")\n"
   ]
  },
  {
   "cell_type": "code",
   "execution_count": 197,
   "metadata": {},
   "outputs": [],
   "source": [
    "def draw_plotbar_3(df, figsize, fontsize, title):\n",
    "    ax = df.plot(kind=\"bar\", logy=True, rot=0, fontsize=fontsize+3, figsize=figsize, width=0.8, \n",
    "                 color=('#377eb8', '#ff7f00', '#4daf4a', '#dede00', '#999999', '#e41a1c'))\n",
    "\n",
    "    ax.get_legend().remove()\n",
    "    plt.ylabel(\"sec\", fontsize=fontsize+5)\n",
    "    plt.title(title, fontsize=fontsize+10)\n",
    "    ax.yaxis.grid(True)\n",
    "\n",
    "    # show column height behind columns\n",
    "    for p in ax.patches:\n",
    "        annotate_value = str(np.round(p.get_height(), decimals=2)) if p.get_height() < 500 else format(np.round(p.get_height()), \".0f\")\n",
    "        ax.annotate(str(annotate_value), (p.get_x()+p.get_width()/2., p.get_height()), ha='center', va='center', xytext=(0, 10), textcoords='offset points', fontsize=15, weight=\"bold\")\n",
    "\n",
    "    for patch_id in range(6):\n",
    "        ax.annotate(adjust_vm_name(df.columns[patch_id]), xy=(174 + patch_id * p.get_width()*432, 70), xycoords='figure pixels', fontsize=14)\n",
    "        patch_id += 1\n",
    "\n",
    "    for patch_id in range(6):\n",
    "        ax.annotate(adjust_vm_name(df.columns[patch_id]), xy=(599 + patch_id * p.get_width()*432, 70), xycoords='figure pixels', fontsize=14)\n",
    "        patch_id += 1\n",
    "\n",
    "    for patch_id in range(6):\n",
    "        ax.annotate(adjust_vm_name(df.columns[patch_id]), xy=(1019 + patch_id * p.get_width()*432, 70), xycoords='figure pixels', fontsize=14)\n",
    "        patch_id += 1"
   ]
  },
  {
   "cell_type": "code",
   "execution_count": 203,
   "metadata": {},
   "outputs": [
    {
     "data": {
      "image/png": "[encoded data removed]",
      "text/plain": [
       "<Figure size 1800x1080 with 1 Axes>"
      ]
     },
     "metadata": {
      "needs_background": "light"
     },
     "output_type": "display_data"
    }
   ],
   "source": [
    "computations_tests = pd.DataFrame([df_results[\"fibonacci_38\"].mean(),\n",
    "                                   df_results[\"factorization_2147483647\"].mean(), \n",
    "                                   df_results[\"recursive_hash_10000000_0\"].mean()],\n",
    "                                  index=[\"\\n\\nRecursive fibonacci\\n(computes 38-th fib number)\", \n",
    "                                         \"\\n\\nFactorization\\n(factorizes 2147483647 by sieve)\",\n",
    "                                         \"\\n\\nRecurive hash computing\\n(computes 1000000 hashes of hashes)\"])\n",
    "\n",
    "draw_plotbar_3(computations_tests, figsize, fontsize, \"Computation tests\\n(log plot, a lower score is better)\")"
   ]
  },
  {
   "cell_type": "code",
   "execution_count": 204,
   "metadata": {},
   "outputs": [
    {
     "data": {
      "image/png": "[encoded data removed]",
      "text/plain": [
       "<Figure size 1800x1080 with 1 Axes>"
      ]
     },
     "metadata": {
      "needs_background": "light"
     },
     "output_type": "display_data"
    }
   ],
   "source": [
    "matrix_tests = pd.DataFrame([df_results[\"matrix_product_1_500_100\"].mean(),\n",
    "                                   df_results[\"svd_decomposition_1_10_1000000\"].mean(), \n",
    "                                   df_results[\"qr_decomposition_1_10_1000000\"].mean()],\n",
    "                                  index=[\"\\n\\nMatrix product\\n(100 times of 500*500 matricies)\", \n",
    "                                         \"\\n\\nSVD decompostions\\n(1000000 times of 10*10 matricies)\",\n",
    "                                         \"\\n\\nQR decompostion\\n(1000000 times of 10*10 matricies)\"])\n",
    "\n",
    "draw_plotbar_3(matrix_tests, figsize, fontsize, \"Matrix tests\\n(log plot, a lower score is better)\")"
   ]
  },
  {
   "cell_type": "markdown",
   "metadata": {},
   "source": [
    "<h3>snappy_compression_5_1000000_1Kb</h3>"
   ]
  },
  {
   "cell_type": "code",
   "execution_count": null,
   "metadata": {},
   "outputs": [],
   "source": [
    "plot_test_name=\"snappy_compression_5_1000000_1Kb\"\n",
    "figsize=(20,10)"
   ]
  },
  {
   "cell_type": "code",
   "execution_count": null,
   "metadata": {},
   "outputs": [],
   "source": [
    "compresssion_tests = pd.DataFrame([df_results[\"snappy_compression_5_1000000_1Kb\"].mean(),\n",
    "                                   df_results[\"snappy_compression_5_10_100Mb\"].mean(),\n",
    "                                   df_results[\"deflate_compression_5_100000_1Kb\"].mean(),\n",
    "                                   df_results[\"deflate_compression_5_5_100Mb\"].mean()], \n",
    "                                  index=[\"snappy compression\\n(1000000 times by 1Kb)\", \n",
    "                                         \"snappy compression\\n(10 times by 100Mb)\",\n",
    "                                         \"deflate compression\\n(100000 times by 1Kb)\",\n",
    "                                         \"deflate compression\\n(5 times by 100Mb)\"])\n",
    "compresssion_tests.plot(kind=\"bar\", grid=True, logy=True, rot=0, fontsize=15, figsize=figsize)\n",
    "#plt.yscale(\"log\")\n",
    "#plt.grid()\n",
    "#plt.show()"
   ]
  },
  {
   "cell_type": "code",
   "execution_count": null,
   "metadata": {},
   "outputs": [],
   "source": [
    "import seaborn as sns\n",
    "\n",
    "plt.yscale(\"log\")\n",
    "plt.title(\"snappy_compression_5_1000000_1Kb\", fontsize=15)\n",
    "plt.ylabel(\"sec\", fontsize=15)\n",
    "means = df_results[plot_test_name].mean()\n",
    "errors = df_results[plot_test_name].std()\n",
    "\n",
    "#fig, ax = plt.subplots()\n",
    "sns.barplot(data=df_results[plot_test_name], ci=\"sd\")\n",
    "plt.figure(figsize=(12,10))\n",
    "#plt.grid()\n",
    "#plt.show()\n",
    "#means.plot.bar(yerr=errors, ax=ax)\n",
    "\n",
    "#df_results[plot_test_name].mean().plot(kind=\"bar\", figsize=(12,10), table=True, fontsize=12, style=[\"o-\", \"s-\"])"
   ]
  },
  {
   "cell_type": "code",
   "execution_count": null,
   "metadata": {},
   "outputs": [],
   "source": [
    "\n",
    "plt.yscale(\"log\")\n",
    "plt.title(\"snappy_compression_5_1000000_1Kb\", fontsize=15)\n",
    "plt.ylabel(\"sec\", fontsize=15)\n",
    "plt.grid()\n",
    "means = df_results[plot_test_name].mean()\n",
    "errors = df_results[plot_test_name].std()\n",
    "\n",
    "df_results[plot_test_name].mean().plot(kind=\"bar\", figsize=(12,10), grid=True, fontsize=12)"
   ]
  },
  {
   "cell_type": "code",
   "execution_count": null,
   "metadata": {},
   "outputs": [],
   "source": [
    "draw_plotbox(df_results[plot_test_name], compiler_type_vms + interpreter_type_vms, figsize, plot_test_name + \" (all VMs)\", fontsize)"
   ]
  },
  {
   "cell_type": "code",
   "execution_count": null,
   "metadata": {},
   "outputs": [],
   "source": [
    "draw_plot(df_results[plot_test_name], compiler_type_vms + interpreter_type_vms, figsize, plot_test_name + \" (all VMs)\", fontsize, True)"
   ]
  },
  {
   "cell_type": "code",
   "execution_count": null,
   "metadata": {},
   "outputs": [],
   "source": [
    "draw_plotbox(df_results[plot_test_name], compiler_type_vms, figsize, plot_test_name + \" (compiler-type VMs)\", fontsize)"
   ]
  },
  {
   "cell_type": "code",
   "execution_count": null,
   "metadata": {},
   "outputs": [],
   "source": [
    "draw_plot(df_results[plot_test_name], compiler_type_vms, figsize, plot_test_name + \" (compiler-type VMs)\", fontsize)"
   ]
  },
  {
   "cell_type": "code",
   "execution_count": null,
   "metadata": {},
   "outputs": [],
   "source": [
    "draw_plotbox(df_results[plot_test_name], interpreter_type_vms, figsize, plot_test_name + \" (interpreter-type VMs)\", fontsize)"
   ]
  },
  {
   "cell_type": "code",
   "execution_count": null,
   "metadata": {},
   "outputs": [],
   "source": [
    "draw_plot(df_results[plot_test_name],  interpreter_type_vms, figsize, plot_test_name + \" (interpreter-type VMs)\", fontsize)"
   ]
  },
  {
   "cell_type": "markdown",
   "metadata": {},
   "source": [
    "<h3>snappy_compression_5_10_100Mb</h3>"
   ]
  },
  {
   "cell_type": "code",
   "execution_count": null,
   "metadata": {},
   "outputs": [],
   "source": [
    "plot_test_name=\"snappy_compression_5_10_100Mb\"\n",
    "figsize=(12,10)"
   ]
  },
  {
   "cell_type": "code",
   "execution_count": null,
   "metadata": {
    "scrolled": true
   },
   "outputs": [],
   "source": [
    "draw_plotbox(df_results[plot_test_name], compiler_type_vms + interpreter_type_vms, figsize, plot_test_name + \" (all VMs)\", fontsize)"
   ]
  },
  {
   "cell_type": "code",
   "execution_count": null,
   "metadata": {},
   "outputs": [],
   "source": [
    "draw_plot(df_results[plot_test_name], compiler_type_vms + interpreter_type_vms, figsize, plot_test_name + \" (all VMs)\", fontsize, True)"
   ]
  },
  {
   "cell_type": "code",
   "execution_count": null,
   "metadata": {},
   "outputs": [],
   "source": [
    "draw_plotbox(df_results[plot_test_name], compiler_type_vms, figsize, plot_test_name + \" (compiler-type VMs)\", fontsize)"
   ]
  },
  {
   "cell_type": "code",
   "execution_count": null,
   "metadata": {},
   "outputs": [],
   "source": [
    "draw_plot(df_results[plot_test_name], compiler_type_vms, figsize, plot_test_name + \" (compiler-type VMs)\", fontsize)"
   ]
  },
  {
   "cell_type": "code",
   "execution_count": null,
   "metadata": {},
   "outputs": [],
   "source": [
    "draw_plotbox(df_results[plot_test_name], interpreter_type_vms, figsize, plot_test_name + \" (interpreter-type VMs)\", fontsize)"
   ]
  },
  {
   "cell_type": "code",
   "execution_count": null,
   "metadata": {},
   "outputs": [],
   "source": [
    "draw_plot(df_results[plot_test_name],  interpreter_type_vms, figsize, plot_test_name + \" (interpreter-type VMs)\", fontsize)"
   ]
  },
  {
   "cell_type": "markdown",
   "metadata": {},
   "source": [
    "<h3>deflate_compression_5_100000_1Kb</h3>"
   ]
  },
  {
   "cell_type": "code",
   "execution_count": null,
   "metadata": {},
   "outputs": [],
   "source": [
    "plot_test_name=\"deflate_compression_5_100000_1Kb\"\n",
    "figsize=(12,10)"
   ]
  },
  {
   "cell_type": "code",
   "execution_count": null,
   "metadata": {
    "scrolled": true
   },
   "outputs": [],
   "source": [
    "draw_plotbox(df_results[plot_test_name], compiler_type_vms + interpreter_type_vms, figsize, plot_test_name + \" (all VMs)\", fontsize)"
   ]
  },
  {
   "cell_type": "code",
   "execution_count": null,
   "metadata": {},
   "outputs": [],
   "source": [
    "draw_plot(df_results[plot_test_name], compiler_type_vms + interpreter_type_vms, figsize, plot_test_name + \" (all VMs)\", fontsize, True)"
   ]
  },
  {
   "cell_type": "code",
   "execution_count": null,
   "metadata": {
    "scrolled": true
   },
   "outputs": [],
   "source": [
    "draw_plotbox(df_results[plot_test_name], compiler_type_vms, figsize, plot_test_name + \" (compiler-type VMs)\", fontsize)"
   ]
  },
  {
   "cell_type": "code",
   "execution_count": null,
   "metadata": {},
   "outputs": [],
   "source": [
    "draw_plot(df_results[plot_test_name], compiler_type_vms, figsize, plot_test_name + \" (compiler-type VMs)\", fontsize)"
   ]
  },
  {
   "cell_type": "code",
   "execution_count": null,
   "metadata": {
    "scrolled": true
   },
   "outputs": [],
   "source": [
    "draw_plotbox(df_results[plot_test_name], interpreter_type_vms, figsize, plot_test_name + \" (interpreter-type VMs)\", fontsize)"
   ]
  },
  {
   "cell_type": "code",
   "execution_count": null,
   "metadata": {},
   "outputs": [],
   "source": [
    "draw_plot(df_results[plot_test_name],  interpreter_type_vms, figsize, plot_test_name + \" (interpreter-type VMs)\", fontsize)"
   ]
  },
  {
   "cell_type": "markdown",
   "metadata": {},
   "source": [
    "<h3>deflate_compression_5_5_100Mb</h3>"
   ]
  },
  {
   "cell_type": "code",
   "execution_count": null,
   "metadata": {},
   "outputs": [],
   "source": [
    "plot_test_name=\"deflate_compression_5_5_100Mb\"\n",
    "figsize=(12,10)"
   ]
  },
  {
   "cell_type": "code",
   "execution_count": null,
   "metadata": {
    "scrolled": true
   },
   "outputs": [],
   "source": [
    "draw_plotbox(df_results[plot_test_name], compiler_type_vms + interpreter_type_vms, figsize, plot_test_name + \" (all VMs)\", fontsize)"
   ]
  },
  {
   "cell_type": "code",
   "execution_count": null,
   "metadata": {},
   "outputs": [],
   "source": [
    "draw_plot(df_results[plot_test_name], compiler_type_vms + interpreter_type_vms, figsize, plot_test_name + \" (all VMs)\", fontsize, True)"
   ]
  },
  {
   "cell_type": "code",
   "execution_count": null,
   "metadata": {
    "scrolled": true
   },
   "outputs": [],
   "source": [
    "draw_plotbox(df_results[plot_test_name], compiler_type_vms, figsize, plot_test_name + \" (compiler-type VMs)\", fontsize)"
   ]
  },
  {
   "cell_type": "code",
   "execution_count": null,
   "metadata": {},
   "outputs": [],
   "source": [
    "draw_plot(df_results[plot_test_name], compiler_type_vms, figsize, plot_test_name + \" (compiler-type VMs)\", fontsize)"
   ]
  },
  {
   "cell_type": "code",
   "execution_count": null,
   "metadata": {
    "scrolled": true
   },
   "outputs": [],
   "source": [
    "draw_plotbox(df_results[plot_test_name], interpreter_type_vms, figsize, plot_test_name + \" (interpreter-type VMs)\", fontsize)"
   ]
  },
  {
   "cell_type": "code",
   "execution_count": null,
   "metadata": {},
   "outputs": [],
   "source": [
    "draw_plot(df_results[plot_test_name],  interpreter_type_vms, figsize, plot_test_name + \" (interpreter-type VMs)\", fontsize)"
   ]
  },
  {
   "cell_type": "markdown",
   "metadata": {},
   "source": [
    "<h3>fibonacci_38</h3>"
   ]
  },
  {
   "cell_type": "code",
   "execution_count": null,
   "metadata": {},
   "outputs": [],
   "source": [
    "plot_test_name=\"fibonacci_38\"\n",
    "figsize=(12,10)"
   ]
  },
  {
   "cell_type": "code",
   "execution_count": null,
   "metadata": {
    "scrolled": false
   },
   "outputs": [],
   "source": [
    "draw_plotbox(df_results[plot_test_name], compiler_type_vms + interpreter_type_vms, figsize, plot_test_name + \" (all VMs)\", fontsize)"
   ]
  },
  {
   "cell_type": "code",
   "execution_count": null,
   "metadata": {},
   "outputs": [],
   "source": [
    "draw_plot(df_results[plot_test_name], compiler_type_vms + interpreter_type_vms, figsize, plot_test_name + \" (all VMs)\", fontsize, True)"
   ]
  },
  {
   "cell_type": "code",
   "execution_count": null,
   "metadata": {
    "scrolled": true
   },
   "outputs": [],
   "source": [
    "draw_plotbox(df_results[plot_test_name], compiler_type_vms, figsize, plot_test_name + \" (compiler-type VMs)\", fontsize)"
   ]
  },
  {
   "cell_type": "code",
   "execution_count": null,
   "metadata": {},
   "outputs": [],
   "source": [
    "draw_plot(df_results[plot_test_name], compiler_type_vms, figsize, plot_test_name + \" (compiler-type VMs)\", fontsize)"
   ]
  },
  {
   "cell_type": "code",
   "execution_count": null,
   "metadata": {},
   "outputs": [],
   "source": [
    "draw_plotbox(df_results[plot_test_name], interpreter_type_vms, figsize, plot_test_name + \" (interpreter-type VMs)\", fontsize)"
   ]
  },
  {
   "cell_type": "code",
   "execution_count": null,
   "metadata": {},
   "outputs": [],
   "source": [
    "draw_plot(df_results[plot_test_name],  interpreter_type_vms, figsize, plot_test_name + \" (interpreter-type VMs)\", fontsize)"
   ]
  },
  {
   "cell_type": "markdown",
   "metadata": {},
   "source": [
    "<h3>factorization_2147483647</h3>"
   ]
  },
  {
   "cell_type": "code",
   "execution_count": null,
   "metadata": {},
   "outputs": [],
   "source": [
    "plot_test_name=\"factorization_2147483647\"\n",
    "figsize=(12,10)"
   ]
  },
  {
   "cell_type": "code",
   "execution_count": null,
   "metadata": {
    "scrolled": true
   },
   "outputs": [],
   "source": [
    "draw_plotbox(df_results[plot_test_name], compiler_type_vms + interpreter_type_vms, figsize, plot_test_name + \" (all VMs)\", fontsize)"
   ]
  },
  {
   "cell_type": "code",
   "execution_count": null,
   "metadata": {},
   "outputs": [],
   "source": [
    "draw_plot(df_results[plot_test_name], compiler_type_vms + interpreter_type_vms, figsize, plot_test_name + \" (all VMs)\", fontsize, True)"
   ]
  },
  {
   "cell_type": "code",
   "execution_count": null,
   "metadata": {
    "scrolled": true
   },
   "outputs": [],
   "source": [
    "draw_plotbox(df_results[plot_test_name], compiler_type_vms, figsize, plot_test_name + \" (compiler-type VMs)\", fontsize)"
   ]
  },
  {
   "cell_type": "code",
   "execution_count": null,
   "metadata": {},
   "outputs": [],
   "source": [
    "draw_plot(df_results[plot_test_name], compiler_type_vms, figsize, plot_test_name + \" (compiler-type VMs)\", fontsize)"
   ]
  },
  {
   "cell_type": "code",
   "execution_count": null,
   "metadata": {},
   "outputs": [],
   "source": [
    "draw_plotbox(df_results[plot_test_name], interpreter_type_vms, figsize, plot_test_name + \" (interpreter-type VMs)\", fontsize)"
   ]
  },
  {
   "cell_type": "code",
   "execution_count": null,
   "metadata": {},
   "outputs": [],
   "source": [
    "draw_plot(df_results[plot_test_name],  interpreter_type_vms, figsize, plot_test_name + \" (interpreter-type VMs)\", fontsize)"
   ]
  },
  {
   "cell_type": "markdown",
   "metadata": {},
   "source": [
    "<h3>recursive_hash_10000000_0</h3>"
   ]
  },
  {
   "cell_type": "code",
   "execution_count": null,
   "metadata": {},
   "outputs": [],
   "source": [
    "plot_test_name=\"recursive_hash_10000000_0\"\n",
    "figsize=(12,10)"
   ]
  },
  {
   "cell_type": "code",
   "execution_count": null,
   "metadata": {
    "scrolled": true
   },
   "outputs": [],
   "source": [
    "draw_plotbox(df_results[plot_test_name], compiler_type_vms + interpreter_type_vms, figsize, plot_test_name + \" (all VMs)\", fontsize)"
   ]
  },
  {
   "cell_type": "code",
   "execution_count": null,
   "metadata": {},
   "outputs": [],
   "source": [
    "draw_plot(df_results[plot_test_name], compiler_type_vms + interpreter_type_vms, figsize, plot_test_name + \" (all VMs)\", fontsize, True)"
   ]
  },
  {
   "cell_type": "code",
   "execution_count": null,
   "metadata": {
    "scrolled": true
   },
   "outputs": [],
   "source": [
    "draw_plotbox(df_results[plot_test_name], compiler_type_vms, figsize, plot_test_name + \" (compiler-type VMs)\", fontsize)"
   ]
  },
  {
   "cell_type": "code",
   "execution_count": null,
   "metadata": {},
   "outputs": [],
   "source": [
    "draw_plot(df_results[plot_test_name], compiler_type_vms, figsize, plot_test_name + \" (compiler-type VMs)\", fontsize)"
   ]
  },
  {
   "cell_type": "code",
   "execution_count": null,
   "metadata": {},
   "outputs": [],
   "source": [
    "draw_plotbox(df_results[plot_test_name], interpreter_type_vms, figsize, plot_test_name + \" (interpreter-type VMs)\", fontsize)"
   ]
  },
  {
   "cell_type": "code",
   "execution_count": null,
   "metadata": {},
   "outputs": [],
   "source": [
    "draw_plot(df_results[plot_test_name],  interpreter_type_vms, figsize, plot_test_name + \" (interpreter-type VMs)\", fontsize)"
   ]
  },
  {
   "cell_type": "markdown",
   "metadata": {},
   "source": [
    "<h3>matrix_product_1_10_1000000</h3>"
   ]
  },
  {
   "cell_type": "code",
   "execution_count": null,
   "metadata": {},
   "outputs": [],
   "source": [
    "plot_test_name=\"matrix_product_1_10_1000000\"\n",
    "figsize=(12,10)"
   ]
  },
  {
   "cell_type": "code",
   "execution_count": null,
   "metadata": {
    "scrolled": true
   },
   "outputs": [],
   "source": [
    "draw_plotbox(df_results[plot_test_name], compiler_type_vms + interpreter_type_vms, figsize, plot_test_name + \" (all VMs)\", fontsize)"
   ]
  },
  {
   "cell_type": "code",
   "execution_count": null,
   "metadata": {},
   "outputs": [],
   "source": [
    "draw_plot(df_results[plot_test_name], compiler_type_vms + interpreter_type_vms, figsize, plot_test_name + \" (all VMs)\", fontsize, True)"
   ]
  },
  {
   "cell_type": "code",
   "execution_count": null,
   "metadata": {
    "scrolled": true
   },
   "outputs": [],
   "source": [
    "draw_plotbox(df_results[plot_test_name], compiler_type_vms, figsize, plot_test_name + \" (compiler-type VMs)\", fontsize)"
   ]
  },
  {
   "cell_type": "code",
   "execution_count": null,
   "metadata": {},
   "outputs": [],
   "source": [
    "draw_plot(df_results[plot_test_name], compiler_type_vms, figsize, plot_test_name + \" (compiler-type VMs)\", fontsize)"
   ]
  },
  {
   "cell_type": "code",
   "execution_count": null,
   "metadata": {},
   "outputs": [],
   "source": [
    "draw_plotbox(df_results[plot_test_name], interpreter_type_vms, figsize, plot_test_name + \" (interpreter-type VMs)\", fontsize)"
   ]
  },
  {
   "cell_type": "code",
   "execution_count": null,
   "metadata": {},
   "outputs": [],
   "source": [
    "draw_plot(df_results[plot_test_name],  interpreter_type_vms, figsize, plot_test_name + \" (interpreter-type VMs)\", fontsize)"
   ]
  },
  {
   "cell_type": "markdown",
   "metadata": {},
   "source": [
    "<h3>matrix_product_1_500_100</h3>"
   ]
  },
  {
   "cell_type": "code",
   "execution_count": null,
   "metadata": {},
   "outputs": [],
   "source": [
    "plot_test_name=\"matrix_product_1_500_100\"\n",
    "figsize=(12,10)"
   ]
  },
  {
   "cell_type": "code",
   "execution_count": null,
   "metadata": {
    "scrolled": true
   },
   "outputs": [],
   "source": [
    "draw_plotbox(df_results[plot_test_name], compiler_type_vms + interpreter_type_vms, figsize, plot_test_name + \" (all VMs)\", fontsize)"
   ]
  },
  {
   "cell_type": "code",
   "execution_count": null,
   "metadata": {},
   "outputs": [],
   "source": [
    "draw_plot(df_results[plot_test_name], compiler_type_vms + interpreter_type_vms, figsize, plot_test_name + \" (all VMs)\", fontsize, True)"
   ]
  },
  {
   "cell_type": "code",
   "execution_count": null,
   "metadata": {
    "scrolled": true
   },
   "outputs": [],
   "source": [
    "draw_plotbox(df_results[plot_test_name], compiler_type_vms, figsize, plot_test_name + \" (compiler-type VMs)\", fontsize)"
   ]
  },
  {
   "cell_type": "code",
   "execution_count": null,
   "metadata": {},
   "outputs": [],
   "source": [
    "draw_plot(df_results[plot_test_name], compiler_type_vms, figsize, plot_test_name + \" (compiler-type VMs)\", fontsize)"
   ]
  },
  {
   "cell_type": "code",
   "execution_count": null,
   "metadata": {},
   "outputs": [],
   "source": [
    "draw_plotbox(df_results[plot_test_name], interpreter_type_vms, figsize, plot_test_name + \" (interpreter-type VMs)\", fontsize)"
   ]
  },
  {
   "cell_type": "code",
   "execution_count": null,
   "metadata": {},
   "outputs": [],
   "source": [
    "draw_plot(df_results[plot_test_name],  interpreter_type_vms, figsize, plot_test_name + \" (interpreter-type VMs)\", fontsize)"
   ]
  },
  {
   "cell_type": "markdown",
   "metadata": {},
   "source": [
    "<h3>svd_decomposition_1_10_1000000</h3>"
   ]
  },
  {
   "cell_type": "code",
   "execution_count": null,
   "metadata": {},
   "outputs": [],
   "source": [
    "plot_test_name=\"svd_decomposition_1_10_1000000\"\n",
    "figsize=(12,10)"
   ]
  },
  {
   "cell_type": "code",
   "execution_count": null,
   "metadata": {
    "scrolled": true
   },
   "outputs": [],
   "source": [
    "draw_plotbox(df_results[plot_test_name], compiler_type_vms + interpreter_type_vms, figsize, plot_test_name + \" (all VMs)\", fontsize)"
   ]
  },
  {
   "cell_type": "code",
   "execution_count": null,
   "metadata": {},
   "outputs": [],
   "source": [
    "draw_plot(df_results[plot_test_name], compiler_type_vms + interpreter_type_vms, figsize, plot_test_name + \" (all VMs)\", fontsize, True)"
   ]
  },
  {
   "cell_type": "code",
   "execution_count": null,
   "metadata": {
    "scrolled": true
   },
   "outputs": [],
   "source": [
    "draw_plotbox(df_results[plot_test_name], compiler_type_vms, figsize, plot_test_name + \" (compiler-type VMs)\", fontsize)"
   ]
  },
  {
   "cell_type": "code",
   "execution_count": null,
   "metadata": {},
   "outputs": [],
   "source": [
    "draw_plot(df_results[plot_test_name], compiler_type_vms, figsize, plot_test_name + \" (compiler-type VMs)\", fontsize)"
   ]
  },
  {
   "cell_type": "code",
   "execution_count": null,
   "metadata": {},
   "outputs": [],
   "source": [
    "draw_plotbox(df_results[plot_test_name], interpreter_type_vms, figsize, plot_test_name + \" (interpreter-type VMs)\", fontsize)"
   ]
  },
  {
   "cell_type": "code",
   "execution_count": null,
   "metadata": {},
   "outputs": [],
   "source": [
    "draw_plot(df_results[plot_test_name],  interpreter_type_vms, figsize, plot_test_name + \" (interpreter-type VMs)\", fontsize)"
   ]
  },
  {
   "cell_type": "markdown",
   "metadata": {},
   "source": [
    "<h3>svd_decomposition_1_300_100</h3>"
   ]
  },
  {
   "cell_type": "code",
   "execution_count": null,
   "metadata": {},
   "outputs": [],
   "source": [
    "plot_test_name=\"svd_decomposition_1_300_100\"\n",
    "figsize=(12,10)"
   ]
  },
  {
   "cell_type": "code",
   "execution_count": null,
   "metadata": {
    "scrolled": true
   },
   "outputs": [],
   "source": [
    "draw_plotbox(df_results[plot_test_name], compiler_type_vms + interpreter_type_vms, figsize, plot_test_name + \" (all VMs)\", fontsize)"
   ]
  },
  {
   "cell_type": "code",
   "execution_count": null,
   "metadata": {},
   "outputs": [],
   "source": [
    "draw_plot(df_results[plot_test_name], compiler_type_vms + interpreter_type_vms, figsize, plot_test_name + \" (all VMs)\", fontsize, True)"
   ]
  },
  {
   "cell_type": "code",
   "execution_count": null,
   "metadata": {
    "scrolled": true
   },
   "outputs": [],
   "source": [
    "draw_plotbox(df_results[plot_test_name], compiler_type_vms, figsize, plot_test_name + \" (compiler-type VMs)\", fontsize)"
   ]
  },
  {
   "cell_type": "code",
   "execution_count": null,
   "metadata": {},
   "outputs": [],
   "source": [
    "draw_plot(df_results[plot_test_name], compiler_type_vms, figsize, plot_test_name + \" (compiler-type VMs)\", fontsize)"
   ]
  },
  {
   "cell_type": "code",
   "execution_count": null,
   "metadata": {},
   "outputs": [],
   "source": [
    "draw_plotbox(df_results[plot_test_name], interpreter_type_vms, figsize, plot_test_name + \" (interpreter-type VMs)\", fontsize)"
   ]
  },
  {
   "cell_type": "code",
   "execution_count": null,
   "metadata": {},
   "outputs": [],
   "source": [
    "draw_plot(df_results[plot_test_name],  interpreter_type_vms, figsize, plot_test_name + \" (interpreter-type VMs)\", fontsize)"
   ]
  },
  {
   "cell_type": "markdown",
   "metadata": {},
   "source": [
    "<h3>qr_decomposition_1_10_1000000</h3>"
   ]
  },
  {
   "cell_type": "code",
   "execution_count": null,
   "metadata": {},
   "outputs": [],
   "source": [
    "plot_test_name=\"qr_decomposition_1_10_1000000\"\n",
    "figsize=(12,10)"
   ]
  },
  {
   "cell_type": "code",
   "execution_count": null,
   "metadata": {
    "scrolled": true
   },
   "outputs": [],
   "source": [
    "draw_plotbox(df_results[plot_test_name], compiler_type_vms + interpreter_type_vms, figsize, plot_test_name + \" (all VMs)\", fontsize)"
   ]
  },
  {
   "cell_type": "code",
   "execution_count": null,
   "metadata": {},
   "outputs": [],
   "source": [
    "draw_plot(df_results[plot_test_name], compiler_type_vms + interpreter_type_vms, figsize, plot_test_name + \" (all VMs)\", fontsize, True)"
   ]
  },
  {
   "cell_type": "code",
   "execution_count": null,
   "metadata": {
    "scrolled": true
   },
   "outputs": [],
   "source": [
    "draw_plotbox(df_results[plot_test_name], compiler_type_vms, figsize, plot_test_name + \" (compiler-type VMs)\", fontsize)"
   ]
  },
  {
   "cell_type": "code",
   "execution_count": null,
   "metadata": {},
   "outputs": [],
   "source": [
    "draw_plot(df_results[plot_test_name], compiler_type_vms, figsize, plot_test_name + \" (compiler-type VMs)\", fontsize)"
   ]
  },
  {
   "cell_type": "code",
   "execution_count": null,
   "metadata": {},
   "outputs": [],
   "source": [
    "draw_plotbox(df_results[plot_test_name], interpreter_type_vms, figsize, plot_test_name + \" (interpreter-type VMs)\", fontsize)"
   ]
  },
  {
   "cell_type": "code",
   "execution_count": null,
   "metadata": {},
   "outputs": [],
   "source": [
    "draw_plot(df_results[plot_test_name],  interpreter_type_vms, figsize, plot_test_name + \" (interpreter-type VMs)\", fontsize)"
   ]
  },
  {
   "cell_type": "markdown",
   "metadata": {},
   "source": [
    "<h3>qr_decomposition_1_500_100</h3>"
   ]
  },
  {
   "cell_type": "code",
   "execution_count": null,
   "metadata": {},
   "outputs": [],
   "source": [
    "plot_test_name=\"qr_decomposition_1_500_100\"\n",
    "figsize=(12,10)"
   ]
  },
  {
   "cell_type": "code",
   "execution_count": null,
   "metadata": {
    "scrolled": false
   },
   "outputs": [],
   "source": [
    "draw_plotbox(df_results[plot_test_name], compiler_type_vms + interpreter_type_vms, figsize, plot_test_name + \" (all VMs)\", fontsize)"
   ]
  },
  {
   "cell_type": "code",
   "execution_count": null,
   "metadata": {},
   "outputs": [],
   "source": [
    "draw_plot(df_results[plot_test_name], compiler_type_vms + interpreter_type_vms, figsize, plot_test_name + \" (all VMs)\", fontsize, True)"
   ]
  },
  {
   "cell_type": "code",
   "execution_count": null,
   "metadata": {
    "scrolled": true
   },
   "outputs": [],
   "source": [
    "draw_plotbox(df_results[plot_test_name], compiler_type_vms, figsize, plot_test_name + \" (compiler-type VMs)\", fontsize)"
   ]
  },
  {
   "cell_type": "code",
   "execution_count": null,
   "metadata": {},
   "outputs": [],
   "source": [
    "draw_plot(df_results[plot_test_name], compiler_type_vms, figsize, plot_test_name + \" (compiler-type VMs)\", fontsize)"
   ]
  },
  {
   "cell_type": "code",
   "execution_count": null,
   "metadata": {},
   "outputs": [],
   "source": [
    "draw_plotbox(df_results[plot_test_name], interpreter_type_vms, figsize, plot_test_name + \" (interpreter-type VMs)\", fontsize)"
   ]
  },
  {
   "cell_type": "code",
   "execution_count": null,
   "metadata": {},
   "outputs": [],
   "source": [
    "draw_plot(df_results[plot_test_name],  interpreter_type_vms, figsize, plot_test_name + \" (interpreter-type VMs)\", fontsize)"
   ]
  }
 ],
 "metadata": {
  "kernelspec": {
   "display_name": "Python 3",
   "language": "python",
   "name": "python3"
  },
  "language_info": {
   "codemirror_mode": {
    "name": "ipython",
    "version": 3
   },
   "file_extension": ".py",
   "mimetype": "text/x-python",
   "name": "python",
   "nbconvert_exporter": "python",
   "pygments_lexer": "ipython3",
   "version": "3.7.0"
  }
 },
 "nbformat": 4,
 "nbformat_minor": 2
}
